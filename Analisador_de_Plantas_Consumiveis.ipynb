{
  "nbformat": 4,
  "nbformat_minor": 0,
  "metadata": {
    "colab": {
      "provenance": [],
      "authorship_tag": "ABX9TyM/T4CmGmofYmxw+12/fS2u",
      "include_colab_link": true
    },
    "kernelspec": {
      "name": "python3",
      "display_name": "Python 3"
    },
    "language_info": {
      "name": "python"
    }
  },
  "cells": [
    {
      "cell_type": "markdown",
      "metadata": {
        "id": "view-in-github",
        "colab_type": "text"
      },
      "source": [
        "<a href=\"https://colab.research.google.com/github/xarutoloko10/Projeto_Imersao_Alura/blob/main/Analisador_de_Plantas_Consumiveis.ipynb\" target=\"_parent\"><img src=\"https://colab.research.google.com/assets/colab-badge.svg\" alt=\"Open In Colab\"/></a>"
      ]
    },
    {
      "cell_type": "markdown",
      "source": [
        "## **Atenção** - O software é apenas uma demonstração, a planta não deve ser consumida sem antes uma analise mais precisa de um profissional ou especialista."
      ],
      "metadata": {
        "id": "ObMuqOJjac0j"
      }
    },
    {
      "cell_type": "code",
      "execution_count": 8,
      "metadata": {
        "id": "A6tb_Oa5lxs-",
        "colab": {
          "base_uri": "https://localhost:8080/",
          "height": 173
        },
        "outputId": "8eeb9ab0-4f52-4433-9eb4-6b5cda1e63c7"
      },
      "outputs": [
        {
          "output_type": "stream",
          "name": "stdout",
          "text": [
            "Digite o caminho da imagem: /content/fc5f5a0b-e531-4ed3-9123-3b5adb4f754f.jpg\n",
            "Resposta: Hibisco, mimo-de-vênus, graxa-de-estudante\n",
            "\n",
            "*Hibiscus rosa-sinensis*\n",
            "\n",
            "A flor de hibisco não é considerada tóxica.\n",
            "\n",
            "O chá de hibisco é feito a partir da infusão dos cálices da flor. Para prepará-lo, basta adicionar água fervente aos cálices secos e deixar em infusão por alguns minutos. \n",
            "\n"
          ]
        }
      ],
      "source": [
        "from pathlib import Path\n",
        "import PIL.Image\n",
        "import hashlib\n",
        "import google.generativeai as genai\n",
        "\n",
        "from google.colab import userdata\n",
        "api_key = userdata.get(\"SECRET_KEY\")\n",
        "\n",
        "# Insira abaixo a sua API do Gemini caso queira testar o programa.\n",
        "genai.configure(api_key=api_key)\n",
        "\n",
        "# Configurando o modelo.\n",
        "generation_config = {\n",
        "  \"temperature\": 1,\n",
        "  \"top_p\": 0.95,\n",
        "  \"top_k\": 0,\n",
        "  \"max_output_tokens\": 8192,\n",
        "}\n",
        "\n",
        "# Configurações de segurança do modelo.\n",
        "safety_settings = [\n",
        "  {\n",
        "    \"category\": \"HARM_CATEGORY_HARASSMENT\",\n",
        "    \"threshold\": \"BLOCK_NONE\"\n",
        "  },\n",
        "  {\n",
        "    \"category\": \"HARM_CATEGORY_HATE_SPEECH\",\n",
        "    \"threshold\": \"BLOCK_NONE\"\n",
        "  },\n",
        "  {\n",
        "    \"category\": \"HARM_CATEGORY_SEXUALLY_EXPLICIT\",\n",
        "    \"threshold\": \"BLOCK_NONE\"\n",
        "  },\n",
        "  {\n",
        "    \"category\": \"HARM_CATEGORY_DANGEROUS_CONTENT\",\n",
        "    \"threshold\": \"BLOCK_NONE\"\n",
        "  },\n",
        "]\n",
        "\n",
        "#Definindo qual versão do modelo e inserindo as configurações nele.\n",
        "model = genai.GenerativeModel(model_name=\"gemini-1.5-pro-latest\",\n",
        "                              generation_config=generation_config,\n",
        "                              safety_settings=safety_settings)\n",
        "\n",
        "#Definindo o tipo \"Chat\" do Gemini, para que ele guarde as informações durante a execução.\n",
        "conversa = model.start_chat(history=[])\n",
        "\n",
        "#Utilizando a biblioteca PIL para permitir input de imagens no projeto.\n",
        "img = PIL.Image.open(input(\"Digite o caminho da imagem: \"))\n",
        "\n",
        "#Realizando a verificação da imagem\n",
        "resposta = conversa.send_message([\"Analise com precisão a imagem e responda apenas true caso a imagem seja uma planta, e apenas false, caso não seja.\", img])\n",
        "\n",
        "#Processando o resultado da verificação.\n",
        "resposta.resolve()\n",
        "\n",
        "#Registrando o resultado na variavel \"validacao\".\n",
        "validacao = (resposta.text.strip())\n",
        "\n",
        "#Gerando o resultado do projeto\n",
        "while validacao != \"false\":\n",
        "  tipo_planta = conversa.send_message(\"Identifique o nome desta planta com precisão e responda primeiro os nomes populares dela, de um espaço entre os tópicos e descreva o nome científico dela. De um espaço entre os tópicos. Descreva se ela é comestível ou venenosa. De um espaço entre os tópicos. Se for comestível, descreva um modo simples de preparo dela, senão diga que é venenosa e não deve ser consumida.\")\n",
        "  tipoplanta = (tipo_planta.text)\n",
        "\n",
        "  #Escrevendo o resultado na tela.\n",
        "  print(\"Resposta:\", tipoplanta)\n",
        "  break\n",
        "\n",
        "#Resultado caso a imagem inserida não seja uma planta.\n",
        "if validacao == \"false\":\n",
        "  print(\"A imagem que você escolheu não é uma planta\")"
      ]
    }
  ]
}